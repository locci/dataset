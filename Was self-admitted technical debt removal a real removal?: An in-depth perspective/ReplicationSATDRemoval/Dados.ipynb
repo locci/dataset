{
 "cells": [
  {
   "cell_type": "markdown",
   "id": "cosmetic-kenya",
   "metadata": {},
   "source": [
    "Analise Exploratória"
   ]
  },
  {
   "cell_type": "code",
   "execution_count": 6,
   "id": "elementary-player",
   "metadata": {},
   "outputs": [],
   "source": [
    "dadoRQ1 <- read.csv(file=\"RQ1.csv\", header=TRUE, sep=\";\")\n",
    "dadoRQ2 <- read.csv(file=\"RQ2.csv\", header=TRUE, sep=\";\")\n",
    "#dadoRQ3_qualitative_API <- read.csv(file=\"RQ3_qualitative_API.csv\", header=TRUE, sep=\";\")\n",
    "dadoRQ3_qualitative_Conditionals <- read.csv(file=\"RQ3_qualitative_Conditionals.csv\", header=TRUE, sep=\";\")\n",
    "dadoRQ3Quantitative <- read.csv(file=\"RQ3Quantitative.csv\", header=TRUE, sep=\";\")"
   ]
  },
  {
   "cell_type": "code",
   "execution_count": 8,
   "id": "useful-devices",
   "metadata": {},
   "outputs": [
    {
     "data": {
      "text/html": [
       "<table class=\"dataframe\">\n",
       "<caption>A data.frame: 6 × 5</caption>\n",
       "<thead>\n",
       "\t<tr><th></th><th scope=col>Project</th><th scope=col>File_Path</th><th scope=col>SATD_Comment</th><th scope=col>Commit_Removal</th><th scope=col>Change_Type</th></tr>\n",
       "\t<tr><th></th><th scope=col>&lt;fct&gt;</th><th scope=col>&lt;fct&gt;</th><th scope=col>&lt;fct&gt;</th><th scope=col>&lt;fct&gt;</th><th scope=col>&lt;fct&gt;</th></tr>\n",
       "</thead>\n",
       "<tbody>\n",
       "\t<tr><th scope=row>1</th><td>Camel</td><td>camel-core/src/test/java/org/apache/camel/processor/ChoiceTest.java                                  </td><td>// TODO we should replace with actual processors on each queue using a latch                                                           </td><td>006e9bba7e2d2f80daaae1173484a647a9ac8843</td><td>Method Removal</td></tr>\n",
       "\t<tr><th scope=row>2</th><td>Camel</td><td>camel-core/src/test/java/org/apache/camel/impl/EndpointRegistryKeepRouteEndpointsRemoteRouteTest.java</td><td>// TODO: need to remove endpoints when removing the route                                                                              </td><td>017fd45b0ac350df786db36875df38b0db7a6c12</td><td>Method Changed</td></tr>\n",
       "\t<tr><th scope=row>3</th><td>Camel</td><td>camel-core/src/main/java/org/apache/camel/processor/interceptor/Debugger.java                        </td><td>// TODO allow some kinda LRU based fixed size list to be used?                                                                         </td><td>01ea57114024aa78add18bbb7d80630a53fec3c2</td><td>Class Removal </td></tr>\n",
       "\t<tr><th scope=row>4</th><td>Camel</td><td>camel-core/src/main/java/org/apache/camel/util/URISupport.java                                       </td><td>// The replaceAll is an ugly workaround for CAMEL-4954, awaiting a cleaner fix once CAMEL-4425 // is fully resolved in all components  </td><td>0266aba78a386ce3faafdda4cffc96ab7818a3cb</td><td>Method Changed</td></tr>\n",
       "\t<tr><th scope=row>5</th><td>Camel</td><td>camel-core/src/main/java/org/apache/camel/component/bean/BeanProcessor.java                          </td><td>// TODO deal with errors!                                                                                                              </td><td>02f11dd1a48cdc2ae35726c7d62877b6e041ecb5</td><td>Method Changed</td></tr>\n",
       "\t<tr><th scope=row>6</th><td>Camel</td><td>components/camel-jetty/src/main/java/org/apache/camel/component/jetty/JettyRestFilter.java           </td><td>// TODO: we may want to use a filter so we can reuse this for camel-servlet // to have it match the request with list of accepted paths</td><td>036f6cbb1e49e92c44d3114807e5b3b44b3e14cc</td><td>Class Removal </td></tr>\n",
       "</tbody>\n",
       "</table>\n"
      ],
      "text/latex": [
       "A data.frame: 6 × 5\n",
       "\\begin{tabular}{r|lllll}\n",
       "  & Project & File\\_Path & SATD\\_Comment & Commit\\_Removal & Change\\_Type\\\\\n",
       "  & <fct> & <fct> & <fct> & <fct> & <fct>\\\\\n",
       "\\hline\n",
       "\t1 & Camel & camel-core/src/test/java/org/apache/camel/processor/ChoiceTest.java                                   & // TODO we should replace with actual processors on each queue using a latch                                                            & 006e9bba7e2d2f80daaae1173484a647a9ac8843 & Method Removal\\\\\n",
       "\t2 & Camel & camel-core/src/test/java/org/apache/camel/impl/EndpointRegistryKeepRouteEndpointsRemoteRouteTest.java & // TODO: need to remove endpoints when removing the route                                                                               & 017fd45b0ac350df786db36875df38b0db7a6c12 & Method Changed\\\\\n",
       "\t3 & Camel & camel-core/src/main/java/org/apache/camel/processor/interceptor/Debugger.java                         & // TODO allow some kinda LRU based fixed size list to be used?                                                                          & 01ea57114024aa78add18bbb7d80630a53fec3c2 & Class Removal \\\\\n",
       "\t4 & Camel & camel-core/src/main/java/org/apache/camel/util/URISupport.java                                        & // The replaceAll is an ugly workaround for CAMEL-4954, awaiting a cleaner fix once CAMEL-4425 // is fully resolved in all components   & 0266aba78a386ce3faafdda4cffc96ab7818a3cb & Method Changed\\\\\n",
       "\t5 & Camel & camel-core/src/main/java/org/apache/camel/component/bean/BeanProcessor.java                           & // TODO deal with errors!                                                                                                               & 02f11dd1a48cdc2ae35726c7d62877b6e041ecb5 & Method Changed\\\\\n",
       "\t6 & Camel & components/camel-jetty/src/main/java/org/apache/camel/component/jetty/JettyRestFilter.java            & // TODO: we may want to use a filter so we can reuse this for camel-servlet // to have it match the request with list of accepted paths & 036f6cbb1e49e92c44d3114807e5b3b44b3e14cc & Class Removal \\\\\n",
       "\\end{tabular}\n"
      ],
      "text/markdown": [
       "\n",
       "A data.frame: 6 × 5\n",
       "\n",
       "| <!--/--> | Project &lt;fct&gt; | File_Path &lt;fct&gt; | SATD_Comment &lt;fct&gt; | Commit_Removal &lt;fct&gt; | Change_Type &lt;fct&gt; |\n",
       "|---|---|---|---|---|---|\n",
       "| 1 | Camel | camel-core/src/test/java/org/apache/camel/processor/ChoiceTest.java                                   | // TODO we should replace with actual processors on each queue using a latch                                                            | 006e9bba7e2d2f80daaae1173484a647a9ac8843 | Method Removal |\n",
       "| 2 | Camel | camel-core/src/test/java/org/apache/camel/impl/EndpointRegistryKeepRouteEndpointsRemoteRouteTest.java | // TODO: need to remove endpoints when removing the route                                                                               | 017fd45b0ac350df786db36875df38b0db7a6c12 | Method Changed |\n",
       "| 3 | Camel | camel-core/src/main/java/org/apache/camel/processor/interceptor/Debugger.java                         | // TODO allow some kinda LRU based fixed size list to be used?                                                                          | 01ea57114024aa78add18bbb7d80630a53fec3c2 | Class Removal  |\n",
       "| 4 | Camel | camel-core/src/main/java/org/apache/camel/util/URISupport.java                                        | // The replaceAll is an ugly workaround for CAMEL-4954, awaiting a cleaner fix once CAMEL-4425 // is fully resolved in all components   | 0266aba78a386ce3faafdda4cffc96ab7818a3cb | Method Changed |\n",
       "| 5 | Camel | camel-core/src/main/java/org/apache/camel/component/bean/BeanProcessor.java                           | // TODO deal with errors!                                                                                                               | 02f11dd1a48cdc2ae35726c7d62877b6e041ecb5 | Method Changed |\n",
       "| 6 | Camel | components/camel-jetty/src/main/java/org/apache/camel/component/jetty/JettyRestFilter.java            | // TODO: we may want to use a filter so we can reuse this for camel-servlet // to have it match the request with list of accepted paths | 036f6cbb1e49e92c44d3114807e5b3b44b3e14cc | Class Removal  |\n",
       "\n"
      ],
      "text/plain": [
       "  Project\n",
       "1 Camel  \n",
       "2 Camel  \n",
       "3 Camel  \n",
       "4 Camel  \n",
       "5 Camel  \n",
       "6 Camel  \n",
       "  File_Path                                                                                            \n",
       "1 camel-core/src/test/java/org/apache/camel/processor/ChoiceTest.java                                  \n",
       "2 camel-core/src/test/java/org/apache/camel/impl/EndpointRegistryKeepRouteEndpointsRemoteRouteTest.java\n",
       "3 camel-core/src/main/java/org/apache/camel/processor/interceptor/Debugger.java                        \n",
       "4 camel-core/src/main/java/org/apache/camel/util/URISupport.java                                       \n",
       "5 camel-core/src/main/java/org/apache/camel/component/bean/BeanProcessor.java                          \n",
       "6 components/camel-jetty/src/main/java/org/apache/camel/component/jetty/JettyRestFilter.java           \n",
       "  SATD_Comment                                                                                                                           \n",
       "1 // TODO we should replace with actual processors on each queue using a latch                                                           \n",
       "2 // TODO: need to remove endpoints when removing the route                                                                              \n",
       "3 // TODO allow some kinda LRU based fixed size list to be used?                                                                         \n",
       "4 // The replaceAll is an ugly workaround for CAMEL-4954, awaiting a cleaner fix once CAMEL-4425 // is fully resolved in all components  \n",
       "5 // TODO deal with errors!                                                                                                              \n",
       "6 // TODO: we may want to use a filter so we can reuse this for camel-servlet // to have it match the request with list of accepted paths\n",
       "  Commit_Removal                           Change_Type   \n",
       "1 006e9bba7e2d2f80daaae1173484a647a9ac8843 Method Removal\n",
       "2 017fd45b0ac350df786db36875df38b0db7a6c12 Method Changed\n",
       "3 01ea57114024aa78add18bbb7d80630a53fec3c2 Class Removal \n",
       "4 0266aba78a386ce3faafdda4cffc96ab7818a3cb Method Changed\n",
       "5 02f11dd1a48cdc2ae35726c7d62877b6e041ecb5 Method Changed\n",
       "6 036f6cbb1e49e92c44d3114807e5b3b44b3e14cc Class Removal "
      ]
     },
     "metadata": {},
     "output_type": "display_data"
    }
   ],
   "source": [
    "head(dadoRQ1)"
   ]
  },
  {
   "cell_type": "code",
   "execution_count": 9,
   "id": "naughty-asset",
   "metadata": {},
   "outputs": [
    {
     "data": {
      "text/html": [
       "<table class=\"dataframe\">\n",
       "<caption>A data.frame: 6 × 8</caption>\n",
       "<thead>\n",
       "\t<tr><th></th><th scope=col>Project</th><th scope=col>File_Path</th><th scope=col>SATD_Comment_Pre.Processed</th><th scope=col>Removal_Commit</th><th scope=col>Commit_Message_Pre.Processed</th><th scope=col>Cosine_Similarity</th><th scope=col>Change_Type</th><th scope=col>Value_In_The_Five_Level_Likert_Scale</th></tr>\n",
       "\t<tr><th></th><th scope=col>&lt;fct&gt;</th><th scope=col>&lt;fct&gt;</th><th scope=col>&lt;fct&gt;</th><th scope=col>&lt;fct&gt;</th><th scope=col>&lt;fct&gt;</th><th scope=col>&lt;fct&gt;</th><th scope=col>&lt;fct&gt;</th><th scope=col>&lt;int&gt;</th></tr>\n",
       "</thead>\n",
       "<tbody>\n",
       "\t<tr><th scope=row>1</th><td>Tomcat</td><td>java/org/apache/coyote/http2/ConnectionSettingsLocal.java                             </td><td>unexpect ack log todo                </td><td>e3cbc6661ec5994069a8ef7f6b1f546cf0f09710</td><td>implement todo log receipt unexpect ack      </td><td>0,8164965809</td><td>Method Changed  </td><td>5</td></tr>\n",
       "\t<tr><th scope=row>2</th><td>Tomcat</td><td>java/org/apache/coyote/http2/StreamProcessor.java                                     </td><td>todo handl                           </td><td>75cd0917ae1663df84875ba7dbbac7b0ddcf3bf0</td><td>complet error handl todo                     </td><td>0,7071067812</td><td>Method Changed  </td><td>3</td></tr>\n",
       "\t<tr><th scope=row>3</th><td>Tomcat</td><td>java/org/apache/tomcat/websocket/WsSession.java                                       </td><td>todo log                             </td><td>b7e8aea8ca60766ca429cb1e87c06e561f14867f</td><td>fix coupl log todo                           </td><td>0,7071067812</td><td>Method Changed  </td><td>5</td></tr>\n",
       "\t<tr><th scope=row>4</th><td>Camel </td><td>camel-core/src/main/java/org/apache/camel/processor/WrapProcessor.java                </td><td>todo support async rout engin        </td><td>6691665fb0ee5e2cf613343062a65174b54ea496</td><td>camel polici dsl support async rout engin    </td><td>0,6761234038</td><td>Method Unchanged</td><td>5</td></tr>\n",
       "\t<tr><th scope=row>5</th><td>Camel </td><td>camel-core/src/main/java/org/apache/camel/processor/idempotent/IdempotentConsumer.java</td><td>todo support async rout engin        </td><td>79e6d58443fcdda466c5dd0c84fa6fe15e0f524b</td><td>camel idempot consum support async rout engin</td><td>0,6761234038</td><td>Method Changed  </td><td>5</td></tr>\n",
       "\t<tr><th scope=row>6</th><td>Tomcat</td><td>test/org/apache/catalina/nonblocking/TestNonBlockingAPI.java                          </td><td>todo non block read yet implement apr</td><td>64389d04c74a7d14e37e077d0d563ebb8b45d2ba</td><td>non block servlet read apr                   </td><td>0,6761234038</td><td>Method Changed  </td><td>5</td></tr>\n",
       "</tbody>\n",
       "</table>\n"
      ],
      "text/latex": [
       "A data.frame: 6 × 8\n",
       "\\begin{tabular}{r|llllllll}\n",
       "  & Project & File\\_Path & SATD\\_Comment\\_Pre.Processed & Removal\\_Commit & Commit\\_Message\\_Pre.Processed & Cosine\\_Similarity & Change\\_Type & Value\\_In\\_The\\_Five\\_Level\\_Likert\\_Scale\\\\\n",
       "  & <fct> & <fct> & <fct> & <fct> & <fct> & <fct> & <fct> & <int>\\\\\n",
       "\\hline\n",
       "\t1 & Tomcat & java/org/apache/coyote/http2/ConnectionSettingsLocal.java                              & unexpect ack log todo                 & e3cbc6661ec5994069a8ef7f6b1f546cf0f09710 & implement todo log receipt unexpect ack       & 0,8164965809 & Method Changed   & 5\\\\\n",
       "\t2 & Tomcat & java/org/apache/coyote/http2/StreamProcessor.java                                      & todo handl                            & 75cd0917ae1663df84875ba7dbbac7b0ddcf3bf0 & complet error handl todo                      & 0,7071067812 & Method Changed   & 3\\\\\n",
       "\t3 & Tomcat & java/org/apache/tomcat/websocket/WsSession.java                                        & todo log                              & b7e8aea8ca60766ca429cb1e87c06e561f14867f & fix coupl log todo                            & 0,7071067812 & Method Changed   & 5\\\\\n",
       "\t4 & Camel  & camel-core/src/main/java/org/apache/camel/processor/WrapProcessor.java                 & todo support async rout engin         & 6691665fb0ee5e2cf613343062a65174b54ea496 & camel polici dsl support async rout engin     & 0,6761234038 & Method Unchanged & 5\\\\\n",
       "\t5 & Camel  & camel-core/src/main/java/org/apache/camel/processor/idempotent/IdempotentConsumer.java & todo support async rout engin         & 79e6d58443fcdda466c5dd0c84fa6fe15e0f524b & camel idempot consum support async rout engin & 0,6761234038 & Method Changed   & 5\\\\\n",
       "\t6 & Tomcat & test/org/apache/catalina/nonblocking/TestNonBlockingAPI.java                           & todo non block read yet implement apr & 64389d04c74a7d14e37e077d0d563ebb8b45d2ba & non block servlet read apr                    & 0,6761234038 & Method Changed   & 5\\\\\n",
       "\\end{tabular}\n"
      ],
      "text/markdown": [
       "\n",
       "A data.frame: 6 × 8\n",
       "\n",
       "| <!--/--> | Project &lt;fct&gt; | File_Path &lt;fct&gt; | SATD_Comment_Pre.Processed &lt;fct&gt; | Removal_Commit &lt;fct&gt; | Commit_Message_Pre.Processed &lt;fct&gt; | Cosine_Similarity &lt;fct&gt; | Change_Type &lt;fct&gt; | Value_In_The_Five_Level_Likert_Scale &lt;int&gt; |\n",
       "|---|---|---|---|---|---|---|---|---|\n",
       "| 1 | Tomcat | java/org/apache/coyote/http2/ConnectionSettingsLocal.java                              | unexpect ack log todo                 | e3cbc6661ec5994069a8ef7f6b1f546cf0f09710 | implement todo log receipt unexpect ack       | 0,8164965809 | Method Changed   | 5 |\n",
       "| 2 | Tomcat | java/org/apache/coyote/http2/StreamProcessor.java                                      | todo handl                            | 75cd0917ae1663df84875ba7dbbac7b0ddcf3bf0 | complet error handl todo                      | 0,7071067812 | Method Changed   | 3 |\n",
       "| 3 | Tomcat | java/org/apache/tomcat/websocket/WsSession.java                                        | todo log                              | b7e8aea8ca60766ca429cb1e87c06e561f14867f | fix coupl log todo                            | 0,7071067812 | Method Changed   | 5 |\n",
       "| 4 | Camel  | camel-core/src/main/java/org/apache/camel/processor/WrapProcessor.java                 | todo support async rout engin         | 6691665fb0ee5e2cf613343062a65174b54ea496 | camel polici dsl support async rout engin     | 0,6761234038 | Method Unchanged | 5 |\n",
       "| 5 | Camel  | camel-core/src/main/java/org/apache/camel/processor/idempotent/IdempotentConsumer.java | todo support async rout engin         | 79e6d58443fcdda466c5dd0c84fa6fe15e0f524b | camel idempot consum support async rout engin | 0,6761234038 | Method Changed   | 5 |\n",
       "| 6 | Tomcat | test/org/apache/catalina/nonblocking/TestNonBlockingAPI.java                           | todo non block read yet implement apr | 64389d04c74a7d14e37e077d0d563ebb8b45d2ba | non block servlet read apr                    | 0,6761234038 | Method Changed   | 5 |\n",
       "\n"
      ],
      "text/plain": [
       "  Project\n",
       "1 Tomcat \n",
       "2 Tomcat \n",
       "3 Tomcat \n",
       "4 Camel  \n",
       "5 Camel  \n",
       "6 Tomcat \n",
       "  File_Path                                                                             \n",
       "1 java/org/apache/coyote/http2/ConnectionSettingsLocal.java                             \n",
       "2 java/org/apache/coyote/http2/StreamProcessor.java                                     \n",
       "3 java/org/apache/tomcat/websocket/WsSession.java                                       \n",
       "4 camel-core/src/main/java/org/apache/camel/processor/WrapProcessor.java                \n",
       "5 camel-core/src/main/java/org/apache/camel/processor/idempotent/IdempotentConsumer.java\n",
       "6 test/org/apache/catalina/nonblocking/TestNonBlockingAPI.java                          \n",
       "  SATD_Comment_Pre.Processed           \n",
       "1 unexpect ack log todo                \n",
       "2 todo handl                           \n",
       "3 todo log                             \n",
       "4 todo support async rout engin        \n",
       "5 todo support async rout engin        \n",
       "6 todo non block read yet implement apr\n",
       "  Removal_Commit                          \n",
       "1 e3cbc6661ec5994069a8ef7f6b1f546cf0f09710\n",
       "2 75cd0917ae1663df84875ba7dbbac7b0ddcf3bf0\n",
       "3 b7e8aea8ca60766ca429cb1e87c06e561f14867f\n",
       "4 6691665fb0ee5e2cf613343062a65174b54ea496\n",
       "5 79e6d58443fcdda466c5dd0c84fa6fe15e0f524b\n",
       "6 64389d04c74a7d14e37e077d0d563ebb8b45d2ba\n",
       "  Commit_Message_Pre.Processed                  Cosine_Similarity\n",
       "1 implement todo log receipt unexpect ack       0,8164965809     \n",
       "2 complet error handl todo                      0,7071067812     \n",
       "3 fix coupl log todo                            0,7071067812     \n",
       "4 camel polici dsl support async rout engin     0,6761234038     \n",
       "5 camel idempot consum support async rout engin 0,6761234038     \n",
       "6 non block servlet read apr                    0,6761234038     \n",
       "  Change_Type      Value_In_The_Five_Level_Likert_Scale\n",
       "1 Method Changed   5                                   \n",
       "2 Method Changed   3                                   \n",
       "3 Method Changed   5                                   \n",
       "4 Method Unchanged 5                                   \n",
       "5 Method Changed   5                                   \n",
       "6 Method Changed   5                                   "
      ]
     },
     "metadata": {},
     "output_type": "display_data"
    }
   ],
   "source": [
    "head(dadoRQ2)"
   ]
  },
  {
   "cell_type": "code",
   "execution_count": 10,
   "id": "black-nepal",
   "metadata": {},
   "outputs": [
    {
     "data": {
      "text/html": [
       "<table class=\"dataframe\">\n",
       "<caption>A data.frame: 6 × 6</caption>\n",
       "<thead>\n",
       "\t<tr><th></th><th scope=col>Project</th><th scope=col>File_Path</th><th scope=col>SATD_Comment</th><th scope=col>Commit_Removal</th><th scope=col>Is_Conditional_Change_Related_To_SATD</th><th scope=col>Category</th></tr>\n",
       "\t<tr><th></th><th scope=col>&lt;fct&gt;</th><th scope=col>&lt;fct&gt;</th><th scope=col>&lt;fct&gt;</th><th scope=col>&lt;fct&gt;</th><th scope=col>&lt;fct&gt;</th><th scope=col>&lt;fct&gt;</th></tr>\n",
       "</thead>\n",
       "<tbody>\n",
       "\t<tr><th scope=row>1</th><td>Camel</td><td>camel-core/src/main/java/org/apache/camel/management/mbean/ManagedEndpoint.java            </td><td>// TODO: get from json schema                                                                                                                                                                                                                                    </td><td>68403097d1dbc6d2cdf00c20053e3e32c571c877</td><td>YES</td><td>ADD CONTROL LOGIC            </td></tr>\n",
       "\t<tr><th scope=row>2</th><td>Camel</td><td>camel-core/src/main/java/org/apache/camel/processor/RoutingSlip.java                       </td><td>// TODO: Why not use indexOf and substr to find first delimiter, to skip first elemeent                                                                                                                                                                          </td><td>6997ff4ba78fb523f925f11abc7f020dea88fe63</td><td>YES</td><td>ADD NULL_CHECK               </td></tr>\n",
       "\t<tr><th scope=row>3</th><td>Camel</td><td>camel-core/src/main/java/org/apache/camel/model/ProcessorDefinition.java                   </td><td>// onException can only be added on the route-level and not nested in splitter/policy etc // Camel 3.0 will fix this where we will have a RouteScopeDefinition where route scoped // configuration must take place, and not from this generic ProcessorDefinition</td><td>7a1c8e84b1ab669fa5f0ceed0236ee1ffae971c6</td><td>YES</td><td>REMOVE PRE_CONDITION         </td></tr>\n",
       "\t<tr><th scope=row>4</th><td>Camel</td><td>camel-core/src/main/java/org/apache/camel/component/file/NewFileComponent.java             </td><td>// TODO: This code should be looked at, the parent stuff is might not needed                                                                                                                                                                                     </td><td>7f70df09b02c5a95b53bb9351c67ba1c750bbc15</td><td>YES</td><td>REMOVE CODE                  </td></tr>\n",
       "\t<tr><th scope=row>5</th><td>Camel</td><td>components/camel-jms/src/main/java/org/apache/camel/component/jms/JmsBinding.java          </td><td>// TODO: should we throw an exception instead?                                                                                                                                                                                                                   </td><td>80448160f0a8569def7e5476fc9036209f249cbc</td><td>YES</td><td>CHANGE CONDITIONAL EXPRESSION</td></tr>\n",
       "\t<tr><th scope=row>6</th><td>Camel</td><td>components/camel-ftp/src/main/java/org/apache/camel/component/file/remote/SftpConsumer.java</td><td>// TODO do we need to adjust the TZ?                                                                                                                                                                                                                             </td><td>83139fae37e335810a6930aa34c5260bb272f5db</td><td>NO </td><td>                             </td></tr>\n",
       "</tbody>\n",
       "</table>\n"
      ],
      "text/latex": [
       "A data.frame: 6 × 6\n",
       "\\begin{tabular}{r|llllll}\n",
       "  & Project & File\\_Path & SATD\\_Comment & Commit\\_Removal & Is\\_Conditional\\_Change\\_Related\\_To\\_SATD & Category\\\\\n",
       "  & <fct> & <fct> & <fct> & <fct> & <fct> & <fct>\\\\\n",
       "\\hline\n",
       "\t1 & Camel & camel-core/src/main/java/org/apache/camel/management/mbean/ManagedEndpoint.java             & // TODO: get from json schema                                                                                                                                                                                                                                     & 68403097d1dbc6d2cdf00c20053e3e32c571c877 & YES & ADD CONTROL LOGIC            \\\\\n",
       "\t2 & Camel & camel-core/src/main/java/org/apache/camel/processor/RoutingSlip.java                        & // TODO: Why not use indexOf and substr to find first delimiter, to skip first elemeent                                                                                                                                                                           & 6997ff4ba78fb523f925f11abc7f020dea88fe63 & YES & ADD NULL\\_CHECK               \\\\\n",
       "\t3 & Camel & camel-core/src/main/java/org/apache/camel/model/ProcessorDefinition.java                    & // onException can only be added on the route-level and not nested in splitter/policy etc // Camel 3.0 will fix this where we will have a RouteScopeDefinition where route scoped // configuration must take place, and not from this generic ProcessorDefinition & 7a1c8e84b1ab669fa5f0ceed0236ee1ffae971c6 & YES & REMOVE PRE\\_CONDITION         \\\\\n",
       "\t4 & Camel & camel-core/src/main/java/org/apache/camel/component/file/NewFileComponent.java              & // TODO: This code should be looked at, the parent stuff is might not needed                                                                                                                                                                                      & 7f70df09b02c5a95b53bb9351c67ba1c750bbc15 & YES & REMOVE CODE                  \\\\\n",
       "\t5 & Camel & components/camel-jms/src/main/java/org/apache/camel/component/jms/JmsBinding.java           & // TODO: should we throw an exception instead?                                                                                                                                                                                                                    & 80448160f0a8569def7e5476fc9036209f249cbc & YES & CHANGE CONDITIONAL EXPRESSION\\\\\n",
       "\t6 & Camel & components/camel-ftp/src/main/java/org/apache/camel/component/file/remote/SftpConsumer.java & // TODO do we need to adjust the TZ?                                                                                                                                                                                                                              & 83139fae37e335810a6930aa34c5260bb272f5db & NO  &                              \\\\\n",
       "\\end{tabular}\n"
      ],
      "text/markdown": [
       "\n",
       "A data.frame: 6 × 6\n",
       "\n",
       "| <!--/--> | Project &lt;fct&gt; | File_Path &lt;fct&gt; | SATD_Comment &lt;fct&gt; | Commit_Removal &lt;fct&gt; | Is_Conditional_Change_Related_To_SATD &lt;fct&gt; | Category &lt;fct&gt; |\n",
       "|---|---|---|---|---|---|---|\n",
       "| 1 | Camel | camel-core/src/main/java/org/apache/camel/management/mbean/ManagedEndpoint.java             | // TODO: get from json schema                                                                                                                                                                                                                                     | 68403097d1dbc6d2cdf00c20053e3e32c571c877 | YES | ADD CONTROL LOGIC             |\n",
       "| 2 | Camel | camel-core/src/main/java/org/apache/camel/processor/RoutingSlip.java                        | // TODO: Why not use indexOf and substr to find first delimiter, to skip first elemeent                                                                                                                                                                           | 6997ff4ba78fb523f925f11abc7f020dea88fe63 | YES | ADD NULL_CHECK                |\n",
       "| 3 | Camel | camel-core/src/main/java/org/apache/camel/model/ProcessorDefinition.java                    | // onException can only be added on the route-level and not nested in splitter/policy etc // Camel 3.0 will fix this where we will have a RouteScopeDefinition where route scoped // configuration must take place, and not from this generic ProcessorDefinition | 7a1c8e84b1ab669fa5f0ceed0236ee1ffae971c6 | YES | REMOVE PRE_CONDITION          |\n",
       "| 4 | Camel | camel-core/src/main/java/org/apache/camel/component/file/NewFileComponent.java              | // TODO: This code should be looked at, the parent stuff is might not needed                                                                                                                                                                                      | 7f70df09b02c5a95b53bb9351c67ba1c750bbc15 | YES | REMOVE CODE                   |\n",
       "| 5 | Camel | components/camel-jms/src/main/java/org/apache/camel/component/jms/JmsBinding.java           | // TODO: should we throw an exception instead?                                                                                                                                                                                                                    | 80448160f0a8569def7e5476fc9036209f249cbc | YES | CHANGE CONDITIONAL EXPRESSION |\n",
       "| 6 | Camel | components/camel-ftp/src/main/java/org/apache/camel/component/file/remote/SftpConsumer.java | // TODO do we need to adjust the TZ?                                                                                                                                                                                                                              | 83139fae37e335810a6930aa34c5260bb272f5db | NO  | <!----> |\n",
       "\n"
      ],
      "text/plain": [
       "  Project\n",
       "1 Camel  \n",
       "2 Camel  \n",
       "3 Camel  \n",
       "4 Camel  \n",
       "5 Camel  \n",
       "6 Camel  \n",
       "  File_Path                                                                                  \n",
       "1 camel-core/src/main/java/org/apache/camel/management/mbean/ManagedEndpoint.java            \n",
       "2 camel-core/src/main/java/org/apache/camel/processor/RoutingSlip.java                       \n",
       "3 camel-core/src/main/java/org/apache/camel/model/ProcessorDefinition.java                   \n",
       "4 camel-core/src/main/java/org/apache/camel/component/file/NewFileComponent.java             \n",
       "5 components/camel-jms/src/main/java/org/apache/camel/component/jms/JmsBinding.java          \n",
       "6 components/camel-ftp/src/main/java/org/apache/camel/component/file/remote/SftpConsumer.java\n",
       "  SATD_Comment                                                                                                                                                                                                                                                     \n",
       "1 // TODO: get from json schema                                                                                                                                                                                                                                    \n",
       "2 // TODO: Why not use indexOf and substr to find first delimiter, to skip first elemeent                                                                                                                                                                          \n",
       "3 // onException can only be added on the route-level and not nested in splitter/policy etc // Camel 3.0 will fix this where we will have a RouteScopeDefinition where route scoped // configuration must take place, and not from this generic ProcessorDefinition\n",
       "4 // TODO: This code should be looked at, the parent stuff is might not needed                                                                                                                                                                                     \n",
       "5 // TODO: should we throw an exception instead?                                                                                                                                                                                                                   \n",
       "6 // TODO do we need to adjust the TZ?                                                                                                                                                                                                                             \n",
       "  Commit_Removal                          \n",
       "1 68403097d1dbc6d2cdf00c20053e3e32c571c877\n",
       "2 6997ff4ba78fb523f925f11abc7f020dea88fe63\n",
       "3 7a1c8e84b1ab669fa5f0ceed0236ee1ffae971c6\n",
       "4 7f70df09b02c5a95b53bb9351c67ba1c750bbc15\n",
       "5 80448160f0a8569def7e5476fc9036209f249cbc\n",
       "6 83139fae37e335810a6930aa34c5260bb272f5db\n",
       "  Is_Conditional_Change_Related_To_SATD Category                     \n",
       "1 YES                                   ADD CONTROL LOGIC            \n",
       "2 YES                                   ADD NULL_CHECK               \n",
       "3 YES                                   REMOVE PRE_CONDITION         \n",
       "4 YES                                   REMOVE CODE                  \n",
       "5 YES                                   CHANGE CONDITIONAL EXPRESSION\n",
       "6 NO                                                                 "
      ]
     },
     "metadata": {},
     "output_type": "display_data"
    }
   ],
   "source": [
    "head(dadoRQ3_qualitative_Conditionals)"
   ]
  },
  {
   "cell_type": "code",
   "execution_count": 11,
   "id": "lucky-pressing",
   "metadata": {},
   "outputs": [
    {
     "data": {
      "text/html": [
       "<table class=\"dataframe\">\n",
       "<caption>A data.frame: 6 × 11</caption>\n",
       "<thead>\n",
       "\t<tr><th></th><th scope=col>Project</th><th scope=col>File_Path</th><th scope=col>SATD_Comment</th><th scope=col>Commit_Removal</th><th scope=col>List_Of_Changes</th><th scope=col>X</th><th scope=col>X.1</th><th scope=col>X.2</th><th scope=col>X.3</th><th scope=col>X.4</th><th scope=col>X.5</th></tr>\n",
       "\t<tr><th></th><th scope=col>&lt;fct&gt;</th><th scope=col>&lt;fct&gt;</th><th scope=col>&lt;fct&gt;</th><th scope=col>&lt;fct&gt;</th><th scope=col>&lt;fct&gt;</th><th scope=col>&lt;fct&gt;</th><th scope=col>&lt;fct&gt;</th><th scope=col>&lt;fct&gt;</th><th scope=col>&lt;fct&gt;</th><th scope=col>&lt;lgl&gt;</th><th scope=col>&lt;lgl&gt;</th></tr>\n",
       "</thead>\n",
       "<tbody>\n",
       "\t<tr><th scope=row>1</th><td>Camel</td><td>camel-core/src/test/java/org/apache/camel/impl/EndpointRegistryKeepRouteEndpointsRemoteRouteTest.java           </td><td>// TODO: need to remove endpoints when removing the route                                                                            </td><td>017fd45b0ac350df786db36875df38b0db7a6c12</td><td>Add MethodInvocation</td><td>Remove MethodInvocation</td><td></td><td></td><td></td><td>NA</td><td>NA</td></tr>\n",
       "\t<tr><th scope=row>2</th><td>Camel</td><td>camel-core/src/main/java/org/apache/camel/util/URISupport.java                                                  </td><td>// The replaceAll is an ugly workaround for CAMEL-4954, awaiting a cleaner fix once CAMEL-4425 // is fully resolved in all components</td><td>0266aba78a386ce3faafdda4cffc96ab7818a3cb</td><td>Other               </td><td>                       </td><td></td><td></td><td></td><td>NA</td><td>NA</td></tr>\n",
       "\t<tr><th scope=row>3</th><td>Camel</td><td>camel-core/src/main/java/org/apache/camel/component/bean/BeanProcessor.java                                     </td><td>// TODO deal with errors!                                                                                                            </td><td>02f11dd1a48cdc2ae35726c7d62877b6e041ecb5</td><td>Other               </td><td>                       </td><td></td><td></td><td></td><td>NA</td><td>NA</td></tr>\n",
       "\t<tr><th scope=row>4</th><td>Camel</td><td>components/camel-jms/src/test/java/org/apache/camel/component/jms/issues/JmsInOutWithSpringRestartIssueTest.java</td><td>// TODO: Does not work properly with AMQ 5.3.1 // Thread.sleep(2000), // context.start(),                                            </td><td>0373ce54e936ca3eb984e8824977a59cf4390143</td><td>Add MethodInvocation</td><td>Remove MethodInvocation</td><td></td><td></td><td></td><td>NA</td><td>NA</td></tr>\n",
       "\t<tr><th scope=row>5</th><td>Camel</td><td>camel-core/src/test/java/org/apache/camel/management/ManagedErrorHandlerOptionsTest.java                        </td><td>// TODO continue from here                                                                                                           </td><td>03bdfcd3faa97bc1219d221b40f62e5af2fae0b8</td><td>Add MethodInvocation</td><td>Remove MethodInvocation</td><td></td><td></td><td></td><td>NA</td><td>NA</td></tr>\n",
       "\t<tr><th scope=row>6</th><td>Camel</td><td>components/camel-cxf/src/main/java/org/apache/camel/component/cxf/jaxrs/DefaultCxfRsBinding.java                </td><td>//TODO copy the message header into the inMessage                                                                                    </td><td>03cd924f46f0f8e6a62471e58cda294ef98b363f</td><td>Add MethodInvocation</td><td>Remove MethodInvocation</td><td></td><td></td><td></td><td>NA</td><td>NA</td></tr>\n",
       "</tbody>\n",
       "</table>\n"
      ],
      "text/latex": [
       "A data.frame: 6 × 11\n",
       "\\begin{tabular}{r|lllllllllll}\n",
       "  & Project & File\\_Path & SATD\\_Comment & Commit\\_Removal & List\\_Of\\_Changes & X & X.1 & X.2 & X.3 & X.4 & X.5\\\\\n",
       "  & <fct> & <fct> & <fct> & <fct> & <fct> & <fct> & <fct> & <fct> & <fct> & <lgl> & <lgl>\\\\\n",
       "\\hline\n",
       "\t1 & Camel & camel-core/src/test/java/org/apache/camel/impl/EndpointRegistryKeepRouteEndpointsRemoteRouteTest.java            & // TODO: need to remove endpoints when removing the route                                                                             & 017fd45b0ac350df786db36875df38b0db7a6c12 & Add MethodInvocation & Remove MethodInvocation &  &  &  & NA & NA\\\\\n",
       "\t2 & Camel & camel-core/src/main/java/org/apache/camel/util/URISupport.java                                                   & // The replaceAll is an ugly workaround for CAMEL-4954, awaiting a cleaner fix once CAMEL-4425 // is fully resolved in all components & 0266aba78a386ce3faafdda4cffc96ab7818a3cb & Other                &                         &  &  &  & NA & NA\\\\\n",
       "\t3 & Camel & camel-core/src/main/java/org/apache/camel/component/bean/BeanProcessor.java                                      & // TODO deal with errors!                                                                                                             & 02f11dd1a48cdc2ae35726c7d62877b6e041ecb5 & Other                &                         &  &  &  & NA & NA\\\\\n",
       "\t4 & Camel & components/camel-jms/src/test/java/org/apache/camel/component/jms/issues/JmsInOutWithSpringRestartIssueTest.java & // TODO: Does not work properly with AMQ 5.3.1 // Thread.sleep(2000), // context.start(),                                             & 0373ce54e936ca3eb984e8824977a59cf4390143 & Add MethodInvocation & Remove MethodInvocation &  &  &  & NA & NA\\\\\n",
       "\t5 & Camel & camel-core/src/test/java/org/apache/camel/management/ManagedErrorHandlerOptionsTest.java                         & // TODO continue from here                                                                                                            & 03bdfcd3faa97bc1219d221b40f62e5af2fae0b8 & Add MethodInvocation & Remove MethodInvocation &  &  &  & NA & NA\\\\\n",
       "\t6 & Camel & components/camel-cxf/src/main/java/org/apache/camel/component/cxf/jaxrs/DefaultCxfRsBinding.java                 & //TODO copy the message header into the inMessage                                                                                     & 03cd924f46f0f8e6a62471e58cda294ef98b363f & Add MethodInvocation & Remove MethodInvocation &  &  &  & NA & NA\\\\\n",
       "\\end{tabular}\n"
      ],
      "text/markdown": [
       "\n",
       "A data.frame: 6 × 11\n",
       "\n",
       "| <!--/--> | Project &lt;fct&gt; | File_Path &lt;fct&gt; | SATD_Comment &lt;fct&gt; | Commit_Removal &lt;fct&gt; | List_Of_Changes &lt;fct&gt; | X &lt;fct&gt; | X.1 &lt;fct&gt; | X.2 &lt;fct&gt; | X.3 &lt;fct&gt; | X.4 &lt;lgl&gt; | X.5 &lt;lgl&gt; |\n",
       "|---|---|---|---|---|---|---|---|---|---|---|---|\n",
       "| 1 | Camel | camel-core/src/test/java/org/apache/camel/impl/EndpointRegistryKeepRouteEndpointsRemoteRouteTest.java            | // TODO: need to remove endpoints when removing the route                                                                             | 017fd45b0ac350df786db36875df38b0db7a6c12 | Add MethodInvocation | Remove MethodInvocation | <!----> | <!----> | <!----> | NA | NA |\n",
       "| 2 | Camel | camel-core/src/main/java/org/apache/camel/util/URISupport.java                                                   | // The replaceAll is an ugly workaround for CAMEL-4954, awaiting a cleaner fix once CAMEL-4425 // is fully resolved in all components | 0266aba78a386ce3faafdda4cffc96ab7818a3cb | Other                | <!----> | <!----> | <!----> | <!----> | NA | NA |\n",
       "| 3 | Camel | camel-core/src/main/java/org/apache/camel/component/bean/BeanProcessor.java                                      | // TODO deal with errors!                                                                                                             | 02f11dd1a48cdc2ae35726c7d62877b6e041ecb5 | Other                | <!----> | <!----> | <!----> | <!----> | NA | NA |\n",
       "| 4 | Camel | components/camel-jms/src/test/java/org/apache/camel/component/jms/issues/JmsInOutWithSpringRestartIssueTest.java | // TODO: Does not work properly with AMQ 5.3.1 // Thread.sleep(2000), // context.start(),                                             | 0373ce54e936ca3eb984e8824977a59cf4390143 | Add MethodInvocation | Remove MethodInvocation | <!----> | <!----> | <!----> | NA | NA |\n",
       "| 5 | Camel | camel-core/src/test/java/org/apache/camel/management/ManagedErrorHandlerOptionsTest.java                         | // TODO continue from here                                                                                                            | 03bdfcd3faa97bc1219d221b40f62e5af2fae0b8 | Add MethodInvocation | Remove MethodInvocation | <!----> | <!----> | <!----> | NA | NA |\n",
       "| 6 | Camel | components/camel-cxf/src/main/java/org/apache/camel/component/cxf/jaxrs/DefaultCxfRsBinding.java                 | //TODO copy the message header into the inMessage                                                                                     | 03cd924f46f0f8e6a62471e58cda294ef98b363f | Add MethodInvocation | Remove MethodInvocation | <!----> | <!----> | <!----> | NA | NA |\n",
       "\n"
      ],
      "text/plain": [
       "  Project\n",
       "1 Camel  \n",
       "2 Camel  \n",
       "3 Camel  \n",
       "4 Camel  \n",
       "5 Camel  \n",
       "6 Camel  \n",
       "  File_Path                                                                                                       \n",
       "1 camel-core/src/test/java/org/apache/camel/impl/EndpointRegistryKeepRouteEndpointsRemoteRouteTest.java           \n",
       "2 camel-core/src/main/java/org/apache/camel/util/URISupport.java                                                  \n",
       "3 camel-core/src/main/java/org/apache/camel/component/bean/BeanProcessor.java                                     \n",
       "4 components/camel-jms/src/test/java/org/apache/camel/component/jms/issues/JmsInOutWithSpringRestartIssueTest.java\n",
       "5 camel-core/src/test/java/org/apache/camel/management/ManagedErrorHandlerOptionsTest.java                        \n",
       "6 components/camel-cxf/src/main/java/org/apache/camel/component/cxf/jaxrs/DefaultCxfRsBinding.java                \n",
       "  SATD_Comment                                                                                                                         \n",
       "1 // TODO: need to remove endpoints when removing the route                                                                            \n",
       "2 // The replaceAll is an ugly workaround for CAMEL-4954, awaiting a cleaner fix once CAMEL-4425 // is fully resolved in all components\n",
       "3 // TODO deal with errors!                                                                                                            \n",
       "4 // TODO: Does not work properly with AMQ 5.3.1 // Thread.sleep(2000), // context.start(),                                            \n",
       "5 // TODO continue from here                                                                                                           \n",
       "6 //TODO copy the message header into the inMessage                                                                                    \n",
       "  Commit_Removal                           List_Of_Changes     \n",
       "1 017fd45b0ac350df786db36875df38b0db7a6c12 Add MethodInvocation\n",
       "2 0266aba78a386ce3faafdda4cffc96ab7818a3cb Other               \n",
       "3 02f11dd1a48cdc2ae35726c7d62877b6e041ecb5 Other               \n",
       "4 0373ce54e936ca3eb984e8824977a59cf4390143 Add MethodInvocation\n",
       "5 03bdfcd3faa97bc1219d221b40f62e5af2fae0b8 Add MethodInvocation\n",
       "6 03cd924f46f0f8e6a62471e58cda294ef98b363f Add MethodInvocation\n",
       "  X                       X.1 X.2 X.3 X.4 X.5\n",
       "1 Remove MethodInvocation             NA  NA \n",
       "2                                     NA  NA \n",
       "3                                     NA  NA \n",
       "4 Remove MethodInvocation             NA  NA \n",
       "5 Remove MethodInvocation             NA  NA \n",
       "6 Remove MethodInvocation             NA  NA "
      ]
     },
     "metadata": {},
     "output_type": "display_data"
    }
   ],
   "source": [
    "head(dadoRQ3Quantitative)"
   ]
  },
  {
   "cell_type": "code",
   "execution_count": null,
   "id": "present-dispute",
   "metadata": {},
   "outputs": [],
   "source": []
  }
 ],
 "metadata": {
  "kernelspec": {
   "display_name": "R",
   "language": "R",
   "name": "ir"
  },
  "language_info": {
   "codemirror_mode": "r",
   "file_extension": ".r",
   "mimetype": "text/x-r-source",
   "name": "R",
   "pygments_lexer": "r",
   "version": "3.6.3"
  }
 },
 "nbformat": 4,
 "nbformat_minor": 5
}
