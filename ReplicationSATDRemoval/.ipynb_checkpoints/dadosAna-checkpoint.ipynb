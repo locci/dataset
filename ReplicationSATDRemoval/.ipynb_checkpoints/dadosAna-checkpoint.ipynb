{
 "cells": [
  {
   "cell_type": "code",
   "execution_count": 1,
   "id": "headed-tenant",
   "metadata": {},
   "outputs": [],
   "source": [
    "dados <- read.csv(\"/home/alexandre/Documentos/DataSet/ReplicationSATDRemoval/RQ1.csv\", header=TRUE, sep=';')"
   ]
  },
  {
   "cell_type": "code",
   "execution_count": null,
   "id": "corporate-format",
   "metadata": {},
   "outputs": [],
   "source": []
  }
 ],
 "metadata": {
  "kernelspec": {
   "display_name": "R",
   "language": "R",
   "name": "ir"
  },
  "language_info": {
   "codemirror_mode": "r",
   "file_extension": ".r",
   "mimetype": "text/x-r-source",
   "name": "R",
   "pygments_lexer": "r",
   "version": "3.6.3"
  }
 },
 "nbformat": 4,
 "nbformat_minor": 5
}
